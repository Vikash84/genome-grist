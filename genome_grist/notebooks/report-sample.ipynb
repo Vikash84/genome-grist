{
 "cells": [
  {
   "cell_type": "code",
   "execution_count": 1,
   "metadata": {},
   "outputs": [],
   "source": [
    "%matplotlib inline\n",
    "import pylab\n",
    "import pandas as pd"
   ]
  },
  {
   "cell_type": "code",
   "execution_count": 2,
   "metadata": {
    "tags": [
     "parameters"
    ]
   },
   "outputs": [],
   "source": [
    "sample_id='SRR606249'\n",
    "#sample_id = 'p8808mo9'\n",
    "#sample_id = 'p8808mo11'\n"
   ]
  },
  {
   "cell_type": "markdown",
   "metadata": {},
   "source": [
    "## load mapping summary CSVs and gather CSV"
   ]
  },
  {
   "cell_type": "code",
   "execution_count": 3,
   "metadata": {},
   "outputs": [],
   "source": [
    "\n",
    "# load mapping CSVs\n",
    "all_df = pd.read_csv(f'../../outputs/minimap/depth/{sample_id}.summary.csv')\n",
    "left_df = pd.read_csv(f'../../outputs/leftover/depth/{sample_id}.summary.csv')\n",
    "\n",
    "# load gather CSV\n",
    "gather_df = pd.read_csv(f'../../outputs/{sample_id}.gather.csv')\n",
    "\n",
    "# names!\n",
    "names_df = pd.read_csv(f'../../{sample_id}.acc.urls.csv')\n",
    "\n",
    "# connect gather_df to all_df and left_df using 'genome_id'\n",
    "def fix_name(x):\n",
    "    return \"_\".join(x.split('_')[:2]).split('.')[0]\n",
    "\n",
    "gather_df['genome_id'] = gather_df['name'].apply(fix_name)\n",
    "names_df['genome_id'] = names_df['acc'].apply(fix_name)"
   ]
  },
  {
   "cell_type": "code",
   "execution_count": 4,
   "metadata": {},
   "outputs": [],
   "source": [
    "# CTB bug FIXME\n",
    "# this ensures that only rows that share genome_id are in all the dataframes\n",
    "in_gather = set(gather_df.genome_id)\n",
    "in_left = set(left_df.genome_id)\n",
    "\n",
    "in_both = in_left.intersection(in_gather)\n",
    "\n",
    "all_df = all_df[all_df.genome_id.isin(in_both)]\n",
    "left_df = left_df[left_df.genome_id.isin(in_both)]\n",
    "gather_df = gather_df[gather_df.genome_id.isin(in_both)]\n",
    "names_df = names_df[names_df.genome_id.isin(in_both)]\n",
    "\n",
    "# reassign index now that we've maybe dropped rows\n",
    "all_df.index = range(len(all_df))\n",
    "left_df.index = range(len(left_df))\n",
    "gather_df.index = range(len(gather_df))\n",
    "names_df.index = range(len(names_df))\n",
    "\n",
    "assert len(all_df) == len(gather_df)\n",
    "assert len(left_df) == len(gather_df)\n",
    "assert len(names_df) == len(gather_df)"
   ]
  },
  {
   "cell_type": "code",
   "execution_count": 5,
   "metadata": {},
   "outputs": [
    {
     "data": {
      "text/html": [
       "<div>\n",
       "<style scoped>\n",
       "    .dataframe tbody tr th:only-of-type {\n",
       "        vertical-align: middle;\n",
       "    }\n",
       "\n",
       "    .dataframe tbody tr th {\n",
       "        vertical-align: top;\n",
       "    }\n",
       "\n",
       "    .dataframe thead th {\n",
       "        text-align: right;\n",
       "    }\n",
       "</style>\n",
       "<table border=\"1\" class=\"dataframe\">\n",
       "  <thead>\n",
       "    <tr style=\"text-align: right;\">\n",
       "      <th></th>\n",
       "      <th>acc</th>\n",
       "      <th>genome_url</th>\n",
       "      <th>assembly_report_url</th>\n",
       "      <th>ncbi_tax_name</th>\n",
       "      <th>genome_id</th>\n",
       "    </tr>\n",
       "  </thead>\n",
       "  <tbody>\n",
       "    <tr>\n",
       "      <th>0</th>\n",
       "      <td>GCA_000013645.1</td>\n",
       "      <td>https://ftp.ncbi.nlm.nih.gov/genomes/all/GCA/0...</td>\n",
       "      <td>https://ftp.ncbi.nlm.nih.gov/genomes/all/GCA/0...</td>\n",
       "      <td>Paraburkholderia xenovorans LB400</td>\n",
       "      <td>GCA_000013645</td>\n",
       "    </tr>\n",
       "    <tr>\n",
       "      <th>1</th>\n",
       "      <td>GCA_000009705.1</td>\n",
       "      <td>https://ftp.ncbi.nlm.nih.gov/genomes/all/GCA/0...</td>\n",
       "      <td>https://ftp.ncbi.nlm.nih.gov/genomes/all/GCA/0...</td>\n",
       "      <td>Nostoc sp. PCC 7120 = FACHB-418</td>\n",
       "      <td>GCA_000009705</td>\n",
       "    </tr>\n",
       "    <tr>\n",
       "      <th>2</th>\n",
       "      <td>GCA_000196115.1</td>\n",
       "      <td>https://ftp.ncbi.nlm.nih.gov/genomes/all/GCA/0...</td>\n",
       "      <td>https://ftp.ncbi.nlm.nih.gov/genomes/all/GCA/0...</td>\n",
       "      <td>Rhodopirellula baltica SH 1</td>\n",
       "      <td>GCA_000196115</td>\n",
       "    </tr>\n",
       "  </tbody>\n",
       "</table>\n",
       "</div>"
      ],
      "text/plain": [
       "               acc                                         genome_url  \\\n",
       "0  GCA_000013645.1  https://ftp.ncbi.nlm.nih.gov/genomes/all/GCA/0...   \n",
       "1  GCA_000009705.1  https://ftp.ncbi.nlm.nih.gov/genomes/all/GCA/0...   \n",
       "2  GCA_000196115.1  https://ftp.ncbi.nlm.nih.gov/genomes/all/GCA/0...   \n",
       "\n",
       "                                 assembly_report_url  \\\n",
       "0  https://ftp.ncbi.nlm.nih.gov/genomes/all/GCA/0...   \n",
       "1  https://ftp.ncbi.nlm.nih.gov/genomes/all/GCA/0...   \n",
       "2  https://ftp.ncbi.nlm.nih.gov/genomes/all/GCA/0...   \n",
       "\n",
       "                       ncbi_tax_name      genome_id  \n",
       "0  Paraburkholderia xenovorans LB400  GCA_000013645  \n",
       "1    Nostoc sp. PCC 7120 = FACHB-418  GCA_000009705  \n",
       "2        Rhodopirellula baltica SH 1  GCA_000196115  "
      ]
     },
     "execution_count": 5,
     "metadata": {},
     "output_type": "execute_result"
    }
   ],
   "source": [
    "# re-sort left_df and all_df to match gather_df order, using matching genome_id column\n",
    "all_df.set_index(\"genome_id\")\n",
    "all_df.reindex(index=gather_df[\"genome_id\"])\n",
    "all_df.reset_index()\n",
    "\n",
    "left_df.set_index(\"genome_id\")\n",
    "left_df.reindex(index=gather_df[\"genome_id\"])\n",
    "left_df.reset_index()\n",
    "\n",
    "#left_df[\"mapped_bp\"] = (1 - left_df[\"percent missed\"]/100) * left_df[\"genome bp\"]\n",
    "#left_df[\"unique_mapped_coverage\"] = left_df.coverage / (1 - left_df[\"percent missed\"] / 100.0)\n",
    "\n",
    "names_df.set_index(\"genome_id\")\n",
    "names_df.reindex(index=gather_df[\"genome_id\"])\n",
    "names_df.reset_index()\n",
    "\n",
    "names_df[:3]"
   ]
  },
  {
   "cell_type": "code",
   "execution_count": 6,
   "metadata": {},
   "outputs": [
    {
     "data": {
      "text/html": [
       "<div>\n",
       "<style scoped>\n",
       "    .dataframe tbody tr th:only-of-type {\n",
       "        vertical-align: middle;\n",
       "    }\n",
       "\n",
       "    .dataframe tbody tr th {\n",
       "        vertical-align: top;\n",
       "    }\n",
       "\n",
       "    .dataframe thead th {\n",
       "        text-align: right;\n",
       "    }\n",
       "</style>\n",
       "<table border=\"1\" class=\"dataframe\">\n",
       "  <thead>\n",
       "    <tr style=\"text-align: right;\">\n",
       "      <th></th>\n",
       "      <th>Unnamed: 0</th>\n",
       "      <th>genome bp</th>\n",
       "      <th>missed</th>\n",
       "      <th>percent missed</th>\n",
       "      <th>coverage</th>\n",
       "      <th>genome_id</th>\n",
       "      <th>sample_id</th>\n",
       "    </tr>\n",
       "  </thead>\n",
       "  <tbody>\n",
       "    <tr>\n",
       "      <th>0</th>\n",
       "      <td>GCA_000013645</td>\n",
       "      <td>9731138</td>\n",
       "      <td>70330</td>\n",
       "      <td>0.722732</td>\n",
       "      <td>10.224036</td>\n",
       "      <td>GCA_000013645</td>\n",
       "      <td>SRR606249</td>\n",
       "    </tr>\n",
       "    <tr>\n",
       "      <th>1</th>\n",
       "      <td>GCA_000009705</td>\n",
       "      <td>7211789</td>\n",
       "      <td>174</td>\n",
       "      <td>0.002413</td>\n",
       "      <td>33.737305</td>\n",
       "      <td>GCA_000009705</td>\n",
       "      <td>SRR606249</td>\n",
       "    </tr>\n",
       "    <tr>\n",
       "      <th>2</th>\n",
       "      <td>GCA_000196115</td>\n",
       "      <td>7145576</td>\n",
       "      <td>104</td>\n",
       "      <td>0.001455</td>\n",
       "      <td>134.405926</td>\n",
       "      <td>GCA_000196115</td>\n",
       "      <td>SRR606249</td>\n",
       "    </tr>\n",
       "    <tr>\n",
       "      <th>3</th>\n",
       "      <td>GCA_000018565</td>\n",
       "      <td>6785430</td>\n",
       "      <td>631</td>\n",
       "      <td>0.009299</td>\n",
       "      <td>23.436817</td>\n",
       "      <td>GCA_000018565</td>\n",
       "      <td>SRR606249</td>\n",
       "    </tr>\n",
       "    <tr>\n",
       "      <th>4</th>\n",
       "      <td>GCA_002959695</td>\n",
       "      <td>6481410</td>\n",
       "      <td>13840</td>\n",
       "      <td>0.213534</td>\n",
       "      <td>24.524634</td>\n",
       "      <td>GCA_002959695</td>\n",
       "      <td>SRR606249</td>\n",
       "    </tr>\n",
       "  </tbody>\n",
       "</table>\n",
       "</div>"
      ],
      "text/plain": [
       "      Unnamed: 0  genome bp  missed  percent missed    coverage  \\\n",
       "0  GCA_000013645    9731138   70330        0.722732   10.224036   \n",
       "1  GCA_000009705    7211789     174        0.002413   33.737305   \n",
       "2  GCA_000196115    7145576     104        0.001455  134.405926   \n",
       "3  GCA_000018565    6785430     631        0.009299   23.436817   \n",
       "4  GCA_002959695    6481410   13840        0.213534   24.524634   \n",
       "\n",
       "       genome_id  sample_id  \n",
       "0  GCA_000013645  SRR606249  \n",
       "1  GCA_000009705  SRR606249  \n",
       "2  GCA_000196115  SRR606249  \n",
       "3  GCA_000018565  SRR606249  \n",
       "4  GCA_002959695  SRR606249  "
      ]
     },
     "execution_count": 6,
     "metadata": {},
     "output_type": "execute_result"
    }
   ],
   "source": [
    "left_df[:5]"
   ]
  },
  {
   "cell_type": "code",
   "execution_count": 7,
   "metadata": {},
   "outputs": [
    {
     "data": {
      "text/html": [
       "<div>\n",
       "<style scoped>\n",
       "    .dataframe tbody tr th:only-of-type {\n",
       "        vertical-align: middle;\n",
       "    }\n",
       "\n",
       "    .dataframe tbody tr th {\n",
       "        vertical-align: top;\n",
       "    }\n",
       "\n",
       "    .dataframe thead th {\n",
       "        text-align: right;\n",
       "    }\n",
       "</style>\n",
       "<table border=\"1\" class=\"dataframe\">\n",
       "  <thead>\n",
       "    <tr style=\"text-align: right;\">\n",
       "      <th></th>\n",
       "      <th>intersect_bp</th>\n",
       "      <th>f_orig_query</th>\n",
       "      <th>f_match</th>\n",
       "      <th>f_unique_to_query</th>\n",
       "      <th>f_unique_weighted</th>\n",
       "      <th>average_abund</th>\n",
       "      <th>median_abund</th>\n",
       "      <th>std_abund</th>\n",
       "      <th>name</th>\n",
       "      <th>filename</th>\n",
       "      <th>md5</th>\n",
       "      <th>f_match_orig</th>\n",
       "      <th>unique_intersect_bp</th>\n",
       "      <th>gather_result_rank</th>\n",
       "      <th>remaining_bp</th>\n",
       "      <th>genome_id</th>\n",
       "    </tr>\n",
       "  </thead>\n",
       "  <tbody>\n",
       "    <tr>\n",
       "      <th>0</th>\n",
       "      <td>9323000</td>\n",
       "      <td>0.024885</td>\n",
       "      <td>0.977254</td>\n",
       "      <td>0.024885</td>\n",
       "      <td>0.008649</td>\n",
       "      <td>6.831814</td>\n",
       "      <td>6.0</td>\n",
       "      <td>5.847358</td>\n",
       "      <td>GCA_000013645.1_ASM1364v1_genomic.fna.gz</td>\n",
       "      <td>all-gather-genomes.sbt.zip</td>\n",
       "      <td>ee9cb05018009af43429e83e7d502a0a</td>\n",
       "      <td>0.977254</td>\n",
       "      <td>9323000</td>\n",
       "      <td>0</td>\n",
       "      <td>365320000</td>\n",
       "      <td>GCA_000013645</td>\n",
       "    </tr>\n",
       "    <tr>\n",
       "      <th>1</th>\n",
       "      <td>7288000</td>\n",
       "      <td>0.019453</td>\n",
       "      <td>0.999040</td>\n",
       "      <td>0.019453</td>\n",
       "      <td>0.023517</td>\n",
       "      <td>23.763035</td>\n",
       "      <td>18.0</td>\n",
       "      <td>29.637611</td>\n",
       "      <td>GCA_000009705.1_ASM970v1_genomic.fna.gz</td>\n",
       "      <td>all-gather-genomes.sbt.zip</td>\n",
       "      <td>264cfdad44548ad96c4a24b6a514a877</td>\n",
       "      <td>0.999040</td>\n",
       "      <td>7288000</td>\n",
       "      <td>1</td>\n",
       "      <td>358032000</td>\n",
       "      <td>GCA_000009705</td>\n",
       "    </tr>\n",
       "    <tr>\n",
       "      <th>2</th>\n",
       "      <td>7039000</td>\n",
       "      <td>0.018789</td>\n",
       "      <td>0.999858</td>\n",
       "      <td>0.018789</td>\n",
       "      <td>0.089562</td>\n",
       "      <td>93.700242</td>\n",
       "      <td>92.0</td>\n",
       "      <td>27.877040</td>\n",
       "      <td>GCA_000196115.1_ASM19611v1_genomic.fna.gz</td>\n",
       "      <td>all-gather-genomes.sbt.zip</td>\n",
       "      <td>7141c3fbf206734950d13cadba0bf46c</td>\n",
       "      <td>0.999858</td>\n",
       "      <td>7039000</td>\n",
       "      <td>2</td>\n",
       "      <td>350993000</td>\n",
       "      <td>GCA_000196115</td>\n",
       "    </tr>\n",
       "    <tr>\n",
       "      <th>3</th>\n",
       "      <td>6604000</td>\n",
       "      <td>0.017627</td>\n",
       "      <td>0.999697</td>\n",
       "      <td>0.017627</td>\n",
       "      <td>0.014621</td>\n",
       "      <td>16.304058</td>\n",
       "      <td>16.0</td>\n",
       "      <td>6.636986</td>\n",
       "      <td>GCA_000018565.1_ASM1856v1_genomic.fna.gz</td>\n",
       "      <td>all-gather-genomes.sbt.zip</td>\n",
       "      <td>5165e0f27ae96c8a78da00c2d30a8e36</td>\n",
       "      <td>0.999697</td>\n",
       "      <td>6604000</td>\n",
       "      <td>3</td>\n",
       "      <td>344389000</td>\n",
       "      <td>GCA_000018565</td>\n",
       "    </tr>\n",
       "    <tr>\n",
       "      <th>4</th>\n",
       "      <td>6323000</td>\n",
       "      <td>0.016877</td>\n",
       "      <td>0.997948</td>\n",
       "      <td>0.016877</td>\n",
       "      <td>0.014897</td>\n",
       "      <td>17.349676</td>\n",
       "      <td>17.0</td>\n",
       "      <td>8.548490</td>\n",
       "      <td>GCA_002959695.1_ASM295969v1_genomic.fna.gz</td>\n",
       "      <td>all-gather-genomes.sbt.zip</td>\n",
       "      <td>cefca2cf1f2ffaacdd22d23b45bfb6cb</td>\n",
       "      <td>0.997948</td>\n",
       "      <td>6323000</td>\n",
       "      <td>4</td>\n",
       "      <td>338066000</td>\n",
       "      <td>GCA_002959695</td>\n",
       "    </tr>\n",
       "  </tbody>\n",
       "</table>\n",
       "</div>"
      ],
      "text/plain": [
       "   intersect_bp  f_orig_query   f_match  f_unique_to_query  f_unique_weighted  \\\n",
       "0       9323000      0.024885  0.977254           0.024885           0.008649   \n",
       "1       7288000      0.019453  0.999040           0.019453           0.023517   \n",
       "2       7039000      0.018789  0.999858           0.018789           0.089562   \n",
       "3       6604000      0.017627  0.999697           0.017627           0.014621   \n",
       "4       6323000      0.016877  0.997948           0.016877           0.014897   \n",
       "\n",
       "   average_abund  median_abund  std_abund  \\\n",
       "0       6.831814           6.0   5.847358   \n",
       "1      23.763035          18.0  29.637611   \n",
       "2      93.700242          92.0  27.877040   \n",
       "3      16.304058          16.0   6.636986   \n",
       "4      17.349676          17.0   8.548490   \n",
       "\n",
       "                                         name                    filename  \\\n",
       "0    GCA_000013645.1_ASM1364v1_genomic.fna.gz  all-gather-genomes.sbt.zip   \n",
       "1     GCA_000009705.1_ASM970v1_genomic.fna.gz  all-gather-genomes.sbt.zip   \n",
       "2   GCA_000196115.1_ASM19611v1_genomic.fna.gz  all-gather-genomes.sbt.zip   \n",
       "3    GCA_000018565.1_ASM1856v1_genomic.fna.gz  all-gather-genomes.sbt.zip   \n",
       "4  GCA_002959695.1_ASM295969v1_genomic.fna.gz  all-gather-genomes.sbt.zip   \n",
       "\n",
       "                                md5  f_match_orig  unique_intersect_bp  \\\n",
       "0  ee9cb05018009af43429e83e7d502a0a      0.977254              9323000   \n",
       "1  264cfdad44548ad96c4a24b6a514a877      0.999040              7288000   \n",
       "2  7141c3fbf206734950d13cadba0bf46c      0.999858              7039000   \n",
       "3  5165e0f27ae96c8a78da00c2d30a8e36      0.999697              6604000   \n",
       "4  cefca2cf1f2ffaacdd22d23b45bfb6cb      0.997948              6323000   \n",
       "\n",
       "   gather_result_rank  remaining_bp      genome_id  \n",
       "0                   0     365320000  GCA_000013645  \n",
       "1                   1     358032000  GCA_000009705  \n",
       "2                   2     350993000  GCA_000196115  \n",
       "3                   3     344389000  GCA_000018565  \n",
       "4                   4     338066000  GCA_002959695  "
      ]
     },
     "execution_count": 7,
     "metadata": {},
     "output_type": "execute_result"
    }
   ],
   "source": [
    "gather_df[:5]"
   ]
  },
  {
   "cell_type": "code",
   "execution_count": 8,
   "metadata": {},
   "outputs": [],
   "source": [
    "# subsample? take top 60...\n",
    "\n",
    "NUM=60\n",
    "\n",
    "left_df = left_df[:NUM]\n",
    "all_df = all_df[:NUM]\n",
    "gather_df = gather_df[:NUM]\n",
    "names_df = names_df[:NUM]"
   ]
  },
  {
   "cell_type": "markdown",
   "metadata": {},
   "source": [
    "## fig 1: examining leftover reads, in order of gather"
   ]
  },
  {
   "cell_type": "code",
   "execution_count": 9,
   "metadata": {},
   "outputs": [
    {
     "data": {
      "text/plain": [
       "[<matplotlib.lines.Line2D at 0x7fd920a72f90>]"
      ]
     },
     "execution_count": 9,
     "metadata": {},
     "output_type": "execute_result"
    },
    {
     "data": {
      "image/png": "[encoded data removed]",
      "text/plain": [
       "<Figure size 576x432 with 1 Axes>"
      ]
     },
     "metadata": {
      "needs_background": "light"
     },
     "output_type": "display_data"
    }
   ],
   "source": [
    "pylab.figure(num=None, figsize=(8, 6))\n",
    "pylab.plot(gather_df[\"f_match\"]* 100, 100 - left_df[\"percent missed\"], '.')\n",
    "\n",
    "pylab.xlim(0, 100)\n",
    "pylab.ylim(0, 100)\n",
    "pylab.xlabel('f_match')\n",
    "pylab.ylabel('mapping bp covered')\n",
    "pylab.title('gather f_match vs leftover mapping bp covered')\n",
    "pylab.plot([0, 100], [0, 100], '--')"
   ]
  },
  {
   "cell_type": "markdown",
   "metadata": {},
   "source": [
    "## fig 2: fraction of hashes unique to query, in order of gather results"
   ]
  },
  {
   "cell_type": "code",
   "execution_count": 10,
   "metadata": {},
   "outputs": [
    {
     "data": {
      "text/plain": [
       "Text(0, 0.5, 'f_unique_to_query, as %')"
      ]
     },
     "execution_count": 10,
     "metadata": {},
     "output_type": "execute_result"
    },
    {
     "data": {
      "image/png": "[encoded data removed]",
      "text/plain": [
       "<Figure size 576x432 with 1 Axes>"
      ]
     },
     "metadata": {
      "needs_background": "light"
     },
     "output_type": "display_data"
    }
   ],
   "source": [
    "pylab.figure(num=None, figsize=(8, 6))\n",
    "pylab.plot(gather_df.index, gather_df[\"f_unique_to_query\"]*100, '.')\n",
    "\n",
    "pylab.title('fraction of hashes unique to query')\n",
    "pylab.xlabel('gather rank order')\n",
    "pylab.ylabel('f_unique_to_query, as %')"
   ]
  },
  {
   "cell_type": "markdown",
   "metadata": {},
   "source": [
    "## fig 4: sum mapped bp and sum identified hashes, in order of gather\n",
    "\n",
    "conclusion: across the gather run, total hashes identified correlate well with total bp mapped"
   ]
  },
  {
   "cell_type": "code",
   "execution_count": 11,
   "metadata": {},
   "outputs": [
    {
     "ename": "KeyError",
     "evalue": "'covered_bp'",
     "output_type": "error",
     "traceback": [
      "\u001b[0;31m---------------------------------------------------------------------------\u001b[0m",
      "\u001b[0;31mKeyError\u001b[0m                                  Traceback (most recent call last)",
      "\u001b[0;32m~/miniconda3/envs/py37/lib/python3.7/site-packages/pandas/core/indexes/base.py\u001b[0m in \u001b[0;36mget_loc\u001b[0;34m(self, key, method, tolerance)\u001b[0m\n\u001b[1;32m   2645\u001b[0m             \u001b[0;32mtry\u001b[0m\u001b[0;34m:\u001b[0m\u001b[0;34m\u001b[0m\u001b[0;34m\u001b[0m\u001b[0m\n\u001b[0;32m-> 2646\u001b[0;31m                 \u001b[0;32mreturn\u001b[0m \u001b[0mself\u001b[0m\u001b[0;34m.\u001b[0m\u001b[0m_engine\u001b[0m\u001b[0;34m.\u001b[0m\u001b[0mget_loc\u001b[0m\u001b[0;34m(\u001b[0m\u001b[0mkey\u001b[0m\u001b[0;34m)\u001b[0m\u001b[0;34m\u001b[0m\u001b[0;34m\u001b[0m\u001b[0m\n\u001b[0m\u001b[1;32m   2647\u001b[0m             \u001b[0;32mexcept\u001b[0m \u001b[0mKeyError\u001b[0m\u001b[0;34m:\u001b[0m\u001b[0;34m\u001b[0m\u001b[0;34m\u001b[0m\u001b[0m\n",
      "\u001b[0;32mpandas/_libs/index.pyx\u001b[0m in \u001b[0;36mpandas._libs.index.IndexEngine.get_loc\u001b[0;34m()\u001b[0m\n",
      "\u001b[0;32mpandas/_libs/index.pyx\u001b[0m in \u001b[0;36mpandas._libs.index.IndexEngine.get_loc\u001b[0;34m()\u001b[0m\n",
      "\u001b[0;32mpandas/_libs/hashtable_class_helper.pxi\u001b[0m in \u001b[0;36mpandas._libs.hashtable.PyObjectHashTable.get_item\u001b[0;34m()\u001b[0m\n",
      "\u001b[0;32mpandas/_libs/hashtable_class_helper.pxi\u001b[0m in \u001b[0;36mpandas._libs.hashtable.PyObjectHashTable.get_item\u001b[0;34m()\u001b[0m\n",
      "\u001b[0;31mKeyError\u001b[0m: 'covered_bp'",
      "\nDuring handling of the above exception, another exception occurred:\n",
      "\u001b[0;31mKeyError\u001b[0m                                  Traceback (most recent call last)",
      "\u001b[0;32m<ipython-input-11-7849e398a2b1>\u001b[0m in \u001b[0;36m<module>\u001b[0;34m\u001b[0m\n\u001b[1;32m      1\u001b[0m \u001b[0mpylab\u001b[0m\u001b[0;34m.\u001b[0m\u001b[0mfigure\u001b[0m\u001b[0;34m(\u001b[0m\u001b[0mnum\u001b[0m\u001b[0;34m=\u001b[0m\u001b[0;32mNone\u001b[0m\u001b[0;34m,\u001b[0m \u001b[0mfigsize\u001b[0m\u001b[0;34m=\u001b[0m\u001b[0;34m(\u001b[0m\u001b[0;36m8\u001b[0m\u001b[0;34m,\u001b[0m \u001b[0;36m6\u001b[0m\u001b[0;34m)\u001b[0m\u001b[0;34m)\u001b[0m\u001b[0;34m\u001b[0m\u001b[0;34m\u001b[0m\u001b[0m\n\u001b[0;32m----> 2\u001b[0;31m \u001b[0mpylab\u001b[0m\u001b[0;34m.\u001b[0m\u001b[0mplot\u001b[0m\u001b[0;34m(\u001b[0m\u001b[0mleft_df\u001b[0m\u001b[0;34m.\u001b[0m\u001b[0mindex\u001b[0m\u001b[0;34m,\u001b[0m \u001b[0mleft_df\u001b[0m\u001b[0;34m[\u001b[0m\u001b[0;34m\"covered_bp\"\u001b[0m\u001b[0;34m]\u001b[0m\u001b[0;34m.\u001b[0m\u001b[0mcumsum\u001b[0m\u001b[0;34m(\u001b[0m\u001b[0;34m)\u001b[0m\u001b[0;34m,\u001b[0m \u001b[0;34m'-'\u001b[0m\u001b[0;34m,\u001b[0m \u001b[0mlabel\u001b[0m\u001b[0;34m=\u001b[0m\u001b[0;34m'total mapped bp'\u001b[0m\u001b[0;34m)\u001b[0m\u001b[0;34m\u001b[0m\u001b[0;34m\u001b[0m\u001b[0m\n\u001b[0m\u001b[1;32m      3\u001b[0m \u001b[0mpylab\u001b[0m\u001b[0;34m.\u001b[0m\u001b[0mplot\u001b[0m\u001b[0;34m(\u001b[0m\u001b[0mgather_df\u001b[0m\u001b[0;34m.\u001b[0m\u001b[0mindex\u001b[0m\u001b[0;34m,\u001b[0m \u001b[0mgather_df\u001b[0m\u001b[0;34m[\u001b[0m\u001b[0;34m\"unique_intersect_bp\"\u001b[0m\u001b[0;34m]\u001b[0m\u001b[0;34m.\u001b[0m\u001b[0mcumsum\u001b[0m\u001b[0;34m(\u001b[0m\u001b[0;34m)\u001b[0m\u001b[0;34m,\u001b[0m \u001b[0;34m'.'\u001b[0m\u001b[0;34m,\u001b[0m \u001b[0mlabel\u001b[0m\u001b[0;34m=\u001b[0m\u001b[0;34m'total classified hashes'\u001b[0m\u001b[0;34m)\u001b[0m\u001b[0;34m\u001b[0m\u001b[0;34m\u001b[0m\u001b[0m\n\u001b[1;32m      4\u001b[0m \u001b[0;34m\u001b[0m\u001b[0m\n\u001b[1;32m      5\u001b[0m \u001b[0mpylab\u001b[0m\u001b[0;34m.\u001b[0m\u001b[0mxlabel\u001b[0m\u001b[0;34m(\u001b[0m\u001b[0;34m'genome in rank order of gather'\u001b[0m\u001b[0;34m)\u001b[0m\u001b[0;34m\u001b[0m\u001b[0;34m\u001b[0m\u001b[0m\n",
      "\u001b[0;32m~/miniconda3/envs/py37/lib/python3.7/site-packages/pandas/core/frame.py\u001b[0m in \u001b[0;36m__getitem__\u001b[0;34m(self, key)\u001b[0m\n\u001b[1;32m   2798\u001b[0m             \u001b[0;32mif\u001b[0m \u001b[0mself\u001b[0m\u001b[0;34m.\u001b[0m\u001b[0mcolumns\u001b[0m\u001b[0;34m.\u001b[0m\u001b[0mnlevels\u001b[0m \u001b[0;34m>\u001b[0m \u001b[0;36m1\u001b[0m\u001b[0;34m:\u001b[0m\u001b[0;34m\u001b[0m\u001b[0;34m\u001b[0m\u001b[0m\n\u001b[1;32m   2799\u001b[0m                 \u001b[0;32mreturn\u001b[0m \u001b[0mself\u001b[0m\u001b[0;34m.\u001b[0m\u001b[0m_getitem_multilevel\u001b[0m\u001b[0;34m(\u001b[0m\u001b[0mkey\u001b[0m\u001b[0;34m)\u001b[0m\u001b[0;34m\u001b[0m\u001b[0;34m\u001b[0m\u001b[0m\n\u001b[0;32m-> 2800\u001b[0;31m             \u001b[0mindexer\u001b[0m \u001b[0;34m=\u001b[0m \u001b[0mself\u001b[0m\u001b[0;34m.\u001b[0m\u001b[0mcolumns\u001b[0m\u001b[0;34m.\u001b[0m\u001b[0mget_loc\u001b[0m\u001b[0;34m(\u001b[0m\u001b[0mkey\u001b[0m\u001b[0;34m)\u001b[0m\u001b[0;34m\u001b[0m\u001b[0;34m\u001b[0m\u001b[0m\n\u001b[0m\u001b[1;32m   2801\u001b[0m             \u001b[0;32mif\u001b[0m \u001b[0mis_integer\u001b[0m\u001b[0;34m(\u001b[0m\u001b[0mindexer\u001b[0m\u001b[0;34m)\u001b[0m\u001b[0;34m:\u001b[0m\u001b[0;34m\u001b[0m\u001b[0;34m\u001b[0m\u001b[0m\n\u001b[1;32m   2802\u001b[0m                 \u001b[0mindexer\u001b[0m \u001b[0;34m=\u001b[0m \u001b[0;34m[\u001b[0m\u001b[0mindexer\u001b[0m\u001b[0;34m]\u001b[0m\u001b[0;34m\u001b[0m\u001b[0;34m\u001b[0m\u001b[0m\n",
      "\u001b[0;32m~/miniconda3/envs/py37/lib/python3.7/site-packages/pandas/core/indexes/base.py\u001b[0m in \u001b[0;36mget_loc\u001b[0;34m(self, key, method, tolerance)\u001b[0m\n\u001b[1;32m   2646\u001b[0m                 \u001b[0;32mreturn\u001b[0m \u001b[0mself\u001b[0m\u001b[0;34m.\u001b[0m\u001b[0m_engine\u001b[0m\u001b[0;34m.\u001b[0m\u001b[0mget_loc\u001b[0m\u001b[0;34m(\u001b[0m\u001b[0mkey\u001b[0m\u001b[0;34m)\u001b[0m\u001b[0;34m\u001b[0m\u001b[0;34m\u001b[0m\u001b[0m\n\u001b[1;32m   2647\u001b[0m             \u001b[0;32mexcept\u001b[0m \u001b[0mKeyError\u001b[0m\u001b[0;34m:\u001b[0m\u001b[0;34m\u001b[0m\u001b[0;34m\u001b[0m\u001b[0m\n\u001b[0;32m-> 2648\u001b[0;31m                 \u001b[0;32mreturn\u001b[0m \u001b[0mself\u001b[0m\u001b[0;34m.\u001b[0m\u001b[0m_engine\u001b[0m\u001b[0;34m.\u001b[0m\u001b[0mget_loc\u001b[0m\u001b[0;34m(\u001b[0m\u001b[0mself\u001b[0m\u001b[0;34m.\u001b[0m\u001b[0m_maybe_cast_indexer\u001b[0m\u001b[0;34m(\u001b[0m\u001b[0mkey\u001b[0m\u001b[0;34m)\u001b[0m\u001b[0;34m)\u001b[0m\u001b[0;34m\u001b[0m\u001b[0;34m\u001b[0m\u001b[0m\n\u001b[0m\u001b[1;32m   2649\u001b[0m         \u001b[0mindexer\u001b[0m \u001b[0;34m=\u001b[0m \u001b[0mself\u001b[0m\u001b[0;34m.\u001b[0m\u001b[0mget_indexer\u001b[0m\u001b[0;34m(\u001b[0m\u001b[0;34m[\u001b[0m\u001b[0mkey\u001b[0m\u001b[0;34m]\u001b[0m\u001b[0;34m,\u001b[0m \u001b[0mmethod\u001b[0m\u001b[0;34m=\u001b[0m\u001b[0mmethod\u001b[0m\u001b[0;34m,\u001b[0m \u001b[0mtolerance\u001b[0m\u001b[0;34m=\u001b[0m\u001b[0mtolerance\u001b[0m\u001b[0;34m)\u001b[0m\u001b[0;34m\u001b[0m\u001b[0;34m\u001b[0m\u001b[0m\n\u001b[1;32m   2650\u001b[0m         \u001b[0;32mif\u001b[0m \u001b[0mindexer\u001b[0m\u001b[0;34m.\u001b[0m\u001b[0mndim\u001b[0m \u001b[0;34m>\u001b[0m \u001b[0;36m1\u001b[0m \u001b[0;32mor\u001b[0m \u001b[0mindexer\u001b[0m\u001b[0;34m.\u001b[0m\u001b[0msize\u001b[0m \u001b[0;34m>\u001b[0m \u001b[0;36m1\u001b[0m\u001b[0;34m:\u001b[0m\u001b[0;34m\u001b[0m\u001b[0;34m\u001b[0m\u001b[0m\n",
      "\u001b[0;32mpandas/_libs/index.pyx\u001b[0m in \u001b[0;36mpandas._libs.index.IndexEngine.get_loc\u001b[0;34m()\u001b[0m\n",
      "\u001b[0;32mpandas/_libs/index.pyx\u001b[0m in \u001b[0;36mpandas._libs.index.IndexEngine.get_loc\u001b[0;34m()\u001b[0m\n",
      "\u001b[0;32mpandas/_libs/hashtable_class_helper.pxi\u001b[0m in \u001b[0;36mpandas._libs.hashtable.PyObjectHashTable.get_item\u001b[0;34m()\u001b[0m\n",
      "\u001b[0;32mpandas/_libs/hashtable_class_helper.pxi\u001b[0m in \u001b[0;36mpandas._libs.hashtable.PyObjectHashTable.get_item\u001b[0;34m()\u001b[0m\n",
      "\u001b[0;31mKeyError\u001b[0m: 'covered_bp'"
     ]
    },
    {
     "data": {
      "text/plain": [
       "<Figure size 576x432 with 0 Axes>"
      ]
     },
     "metadata": {},
     "output_type": "display_data"
    }
   ],
   "source": [
    "pylab.figure(num=None, figsize=(8, 6))\n",
    "pylab.plot(left_df.index, left_df[\"covered_bp\"].cumsum(), '-', label='total mapped bp')\n",
    "pylab.plot(gather_df.index, gather_df[\"unique_intersect_bp\"].cumsum(), '.', label='total classified hashes')\n",
    "\n",
    "pylab.xlabel('genome in rank order of gather')\n",
    "pylab.legend(loc='upper right')\n",
    "pylab.title(f'{sample_id}: gather remaining hashes vs remaining bp')\n",
    "pylab.savefig(f'/tmp/gather-{sample_id}.pdf')"
   ]
  },
  {
   "cell_type": "markdown",
   "metadata": {},
   "source": [
    "## fig 5: mapped bp and identified hashes compared by sample, in order of gather\n",
    "\n",
    "conclusion: for most samples, bp mapped to that genome matches # of hashes classified to that genome\n",
    "\n",
    "note: hashes classified to this genome is monotonically decreasing, b/c gather is a greedy algorithm."
   ]
  },
  {
   "cell_type": "code",
   "execution_count": null,
   "metadata": {},
   "outputs": [],
   "source": [
    "pylab.figure(num=None, figsize=(10, 10))\n",
    "\n",
    "pylab.plot(left_df.covered_bp / 1e6, left_df.iloc[::-1].index, 'b.', label='mapped bp to this genome')\n",
    "pylab.plot(gather_df.intersect_bp / 1e6, gather_df.iloc[::-1].index, 'gx', label='hashes classified to this species')\n",
    "pylab.plot(gather_df.unique_intersect_bp / 1e6, gather_df.iloc[::-1].index, 'ro', label='hashes classified for this genome')\n",
    "\n",
    "positions = list(gather_df.index)\n",
    "labels = list(reversed(names_df.ncbi_tax_name))\n",
    "pylab.yticks(positions, labels, fontsize='small')\n",
    "\n",
    "pylab.xlabel('number (millions)')\n",
    "pylab.legend(loc='lower right')\n",
    "pylab.title(f'{sample_id}: gather hashes vs mapped bp')\n",
    "pylab.tight_layout()\n",
    "\n",
    "pylab.savefig(f'/tmp/gather-{sample_id}.pdf')"
   ]
  },
  {
   "cell_type": "markdown",
   "metadata": {},
   "source": [
    "## fig 6: difference between hashes ident and bp mapped"
   ]
  },
  {
   "cell_type": "code",
   "execution_count": null,
   "metadata": {},
   "outputs": [],
   "source": [
    "pylab.figure(num=None, figsize=(8, 6))\n",
    "pylab.plot(gather_df.index, gather_df.unique_intersect_bp.cumsum() - left_df.covered_bp.cumsum(), '.-')\n",
    "\n",
    "pylab.xlabel('genome (ordered by gather results)')\n",
    "pylab.ylabel('difference: hashcount - mapped bp')"
   ]
  },
  {
   "cell_type": "markdown",
   "metadata": {},
   "source": [
    "## fig 7: difference between hashes and bp, per sample"
   ]
  },
  {
   "cell_type": "code",
   "execution_count": null,
   "metadata": {},
   "outputs": [],
   "source": [
    "pylab.figure(num=None, figsize=(10, 10))\n",
    "\n",
    "pylab.plot(left_df.covered_bp / 1e6, left_df.iloc[::-1].index, 'b.', label='covered bp in this genome')\n",
    "pylab.plot(gather_df.intersect_bp / 1e6, gather_df.iloc[::-1].index, 'gx', label='hashes classified to this species')\n",
    "pylab.plot(gather_df.unique_intersect_bp / 1e6, gather_df.iloc[::-1].index, 'ro', label='hashes classified for this genome')\n",
    "\n",
    "pylab.plot((gather_df.unique_intersect_bp - left_df.covered_bp) / 1e6, gather_df.iloc[::-1].index, \n",
    "           '.-', label='difference b/t hashes and covered bp')\n",
    "\n",
    "positions = list(gather_df.index)\n",
    "labels = list(reversed(names_df.ncbi_tax_name))\n",
    "pylab.yticks(positions, labels, fontsize='small')\n",
    "\n",
    "#pylab.ylabel('genome (ordered by gather results)')\n",
    "pylab.xlabel('number per genome (million)')\n",
    "pylab.legend(loc='lower right')\n",
    "pylab.title(f'{sample_id}: gather hashes vs mapped bp')\n",
    "pylab.tight_layout()\n",
    "pylab.savefig(f'/tmp/gatherdiff-{sample_id}.pdf')\n",
    "pylab.savefig(f'/tmp/gatherdiff-{sample_id}.svg')"
   ]
  },
  {
   "cell_type": "markdown",
   "metadata": {},
   "source": [
    "## fig 8: correlation between hashes and mapping rates"
   ]
  },
  {
   "cell_type": "code",
   "execution_count": null,
   "metadata": {},
   "outputs": [],
   "source": [
    "pylab.figure(num=None, figsize=(8, 6))\n",
    "pylab.plot(left_df.unique_mapped_coverage, gather_df.median_abund, 'ro')\n",
    "pylab.plot([0, 300], [0, 300 * 186/270], '--', label=\"1:0.69 line\")\n",
    "pylab.xlabel('unique mapping abundance (gathered reads only)')\n",
    "pylab.ylabel('median abundance of gathered hashes')\n",
    "pylab.title(f'{sample_id}: gather f_match vs leftover mapping bp covered')\n",
    "pylab.legend(loc='lower right')\n",
    "pylab.savefig(f'/tmp/gather-abund-{sample_id}.pdf')"
   ]
  }
 ],
 "metadata": {
  "celltoolbar": "Tags",
  "kernelspec": {
   "display_name": "Python (myenv)",
   "language": "python",
   "name": "myenv"
  },
  "language_info": {
   "codemirror_mode": {
    "name": "ipython",
    "version": 3
   },
   "file_extension": ".py",
   "mimetype": "text/x-python",
   "name": "python",
   "nbconvert_exporter": "python",
   "pygments_lexer": "ipython3",
   "version": "3.7.6"
  }
 },
 "nbformat": 4,
 "nbformat_minor": 4
}
