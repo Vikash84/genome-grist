{
 "cells": [
  {
   "cell_type": "markdown",
   "metadata": {},
   "source": [
    "# Plot hash intersections\n",
    "\n",
    "using https://pypi.org/project/UpSetPlot/\n",
    "\n",
    "docs at https://upsetplot.readthedocs.io/en/stable/"
   ]
  },
  {
   "cell_type": "code",
   "execution_count": 1,
   "metadata": {},
   "outputs": [],
   "source": [
    "from upsetplot import generate_counts, from_memberships, plot\n",
    "from matplotlib import pyplot\n",
    "\n",
    "import glob, sourmash, itertools\n",
    "import pandas as pd"
   ]
  },
  {
   "cell_type": "code",
   "execution_count": 2,
   "metadata": {},
   "outputs": [],
   "source": [
    "def load_names_df(genbank_csv, override_csv):\n",
    "    \"load names from auto-generated CSV, override with names in override_csv\"\n",
    "    names_df = pd.read_csv(genbank_csv)\n",
    "    accset = set(names_df.acc)\n",
    "\n",
    "    override_df = pd.read_csv(override_csv)\n",
    "    override_df = override_df[override_df.acc.isin(accset)]\n",
    "    override_df.index = range(len(override_df))\n",
    "\n",
    "    override_df['ncbi_tax_name'] = override_df['name']\n",
    "\n",
    "    names_df.update(override_df)\n",
    "    return names_df"
   ]
  },
  {
   "cell_type": "code",
   "execution_count": 3,
   "metadata": {},
   "outputs": [],
   "source": [
    "def hash_intersection(sigs, subtract):\n",
    "    \"calculate n-way hash intersection between *sigs, then remove things in 'subtract'.\"\n",
    "    x = set(sigs[0].minhash.hashes)\n",
    "    for sig in sigs[1:]:\n",
    "        x.intersection_update(sig.minhash.hashes)\n",
    "    return x - subtract\n",
    "\n",
    "def get_intersections(siglist, lengths=None, transform_name=None, min_size=1):\n",
    "    \"\"\"generate all 1..n combinations of signatures in siglist, then calculate hash size intersections.\n",
    "    \n",
    "    returns a list of counts and a list of \n",
    "    \n",
    "    optional 'lengths' can be the list of ns for which you want n-wise combinations, e.g. range(2, n)\n",
    "    'transform_name' can be a function that takes a signature and returns a string.\n",
    "    'min_size' filters intersections - only intersections >= min_size estimated bp get kept.\n",
    "    \"\"\"\n",
    "    combos = []\n",
    "    \n",
    "    if not lengths:\n",
    "        lengths = [ i + 1 for i in range(len(siglist)) ]\n",
    "        \n",
    "    for i in lengths:\n",
    "        combos.extend(itertools.combinations(siglist, i))\n",
    "\n",
    "    sofar = set()\n",
    "    intersect_hashes = []\n",
    "    names = []\n",
    "    counts = []\n",
    "    scaled = siglist[0].minhash.scaled\n",
    "    for i in reversed(combos):\n",
    "        ii = hash_intersection(i, sofar)\n",
    "        if len(ii) * scaled < min_size:\n",
    "            continue\n",
    "        intersect_hashes.append(ii)\n",
    "        sofar.update(ii)\n",
    "\n",
    "        if transform_name:\n",
    "            names.append( [ transform_name(ss) for ss in i ] )\n",
    "        else:\n",
    "            names.append( [ str(ss) for ss in i ] )\n",
    "        counts.append( len(ii)*scaled )\n",
    "\n",
    "    return counts, names"
   ]
  },
  {
   "cell_type": "markdown",
   "metadata": {},
   "source": [
    "## example - two shewanella baltica strains + A. muciniphila"
   ]
  },
  {
   "cell_type": "code",
   "execution_count": 4,
   "metadata": {},
   "outputs": [
    {
     "data": {
      "text/plain": [
       "{'matrix': <AxesSubplot:>,\n",
       " 'shading': <AxesSubplot:>,\n",
       " 'totals': <AxesSubplot:>,\n",
       " 'intersections': <AxesSubplot:ylabel='Intersection size'>}"
      ]
     },
     "execution_count": 4,
     "metadata": {},
     "output_type": "execute_result"
    },
    {
     "data": {
      "image/png": "[encoded data removed]",
      "text/plain": [
       "<Figure size 319.75x288 with 4 Axes>"
      ]
     },
     "metadata": {
      "needs_background": "light"
     },
     "output_type": "display_data"
    }
   ],
   "source": [
    "sigs = glob.glob('outputs/genomes/*.sig')\n",
    "siglist = [ sourmash.load_one_signature(f) for f in sigs ]\n",
    "\n",
    "names_df = load_names_df('twofoo-acc.urls.csv', 'override-names.csv')\n",
    "def get_ncbi_name(sig):\n",
    "    filename = sig.filename\n",
    "    acc = filename.split('_')[:2]\n",
    "    acc = '_'.join(acc)\n",
    "    return list(names_df[names_df.acc == acc].ncbi_tax_name)[0]\n",
    "\n",
    "counts, names = get_intersections(siglist, lengths=range(2, len(siglist)+1),\n",
    "                                  transform_name=get_ncbi_name, min_size=0)\n",
    "\n",
    "foo = from_memberships(names, counts)\n",
    "plot(foo)\n",
    "#pyplot.savefig('/tmp/plot.pdf')"
   ]
  },
  {
   "cell_type": "markdown",
   "metadata": {},
   "source": [
    "## p8808mo11 top 9 hits - any intersections?"
   ]
  },
  {
   "cell_type": "code",
   "execution_count": 5,
   "metadata": {},
   "outputs": [
    {
     "name": "stdout",
     "output_type": "stream",
     "text": [
      "loaded 9 signatures\n"
     ]
    },
    {
     "data": {
      "text/plain": [
       "{'matrix': <AxesSubplot:>,\n",
       " 'shading': <AxesSubplot:>,\n",
       " 'totals': <AxesSubplot:>,\n",
       " 'intersections': <AxesSubplot:ylabel='Intersection size'>}"
      ]
     },
     "execution_count": 5,
     "metadata": {},
     "output_type": "execute_result"
    },
    {
     "data": {
      "image/png": "[encoded data removed]",
      "text/plain": [
       "<Figure size 332.625x320 with 4 Axes>"
      ]
     },
     "metadata": {
      "needs_background": "light"
     },
     "output_type": "display_data"
    }
   ],
   "source": [
    "sigs = glob.glob('p8808mo11/*.sig')\n",
    "siglist2 = [ sourmash.load_one_signature(f) for f in sigs ]\n",
    "print(f'loaded {len(siglist2)} signatures')\n",
    "\n",
    "names2_df = load_names_df('p8808mo11.acc.urls.csv', 'override-names.csv')\n",
    "\n",
    "\n",
    "def get_ncbi_name2(sig):\n",
    "    filename = sig.filename\n",
    "    acc = filename.split('_')[:2]\n",
    "    acc = '_'.join(acc)\n",
    "    return list(names2_df[names2_df.acc == acc].ncbi_tax_name)[0]\n",
    "\n",
    "counts, names = get_intersections(siglist2, lengths=range(2, len(siglist)+1),\n",
    "                                  transform_name=get_ncbi_name2, min_size=5000)\n",
    "foo = from_memberships(names, counts)\n",
    "plot(foo)\n",
    "#pyplot.savefig('/tmp/plot2.pdf')"
   ]
  },
  {
   "cell_type": "code",
   "execution_count": null,
   "metadata": {},
   "outputs": [],
   "source": [
    "counts, names = get_intersections(siglist2, lengths=range(2, len(siglist)+1),\n",
    "                                  transform_name=get_ncbi_name2, min_size=0)\n",
    "foo = from_memberships(names, counts)\n",
    "plot(foo)"
   ]
  },
  {
   "cell_type": "code",
   "execution_count": null,
   "metadata": {},
   "outputs": [],
   "source": [
    "counts, names = get_intersections(siglist2,\n",
    "                                  transform_name=get_ncbi_name2, min_size=10000)\n",
    "foo = from_memberships(names, counts)\n",
    "plot(foo)\n",
    "pyplot.savefig('/tmp/plot3.pdf')"
   ]
  },
  {
   "cell_type": "code",
   "execution_count": null,
   "metadata": {},
   "outputs": [],
   "source": []
  }
 ],
 "metadata": {
  "kernelspec": {
   "display_name": "Python (myenv)",
   "language": "python",
   "name": "myenv"
  },
  "language_info": {
   "codemirror_mode": {
    "name": "ipython",
    "version": 3
   },
   "file_extension": ".py",
   "mimetype": "text/x-python",
   "name": "python",
   "nbconvert_exporter": "python",
   "pygments_lexer": "ipython3",
   "version": "3.7.6"
  }
 },
 "nbformat": 4,
 "nbformat_minor": 4
}
